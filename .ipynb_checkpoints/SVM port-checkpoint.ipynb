{
 "cells": [
  {
   "cell_type": "code",
   "execution_count": null,
   "metadata": {},
   "outputs": [],
   "source": [
    "import numpy as np\n",
    "import pandas as pd\n",
    "import statsmodels.api as sm\n",
    "from sklearn.preprocessing import StandardScaler\n",
    "from sklearn.model_selection import train_test_split as tts\n",
    "from sklearn.metrics import accuracy_score, recall_score, precision_score\n",
    "from sklearn.utils import shuffle"
   ]
  },
  {
   "cell_type": "code",
   "execution_count": null,
   "metadata": {},
   "outputs": [],
   "source": [
    "regularization_strength = 100\n",
    "learning_rate = 0.000001"
   ]
  },
  {
   "cell_type": "code",
   "execution_count": null,
   "metadata": {},
   "outputs": [],
   "source": [
    "def compute_cost(W, X, Y):\n",
    "    # calculate hinge loss\n",
    "    N = X.shape[0]\n",
    "    distances = 1 - Y * (np.dot(X, W))\n",
    "    distances[distances < 0] = 0  # equivalent to max(0, distance)\n",
    "    hinge_loss = regularization_strength * (np.sum(distances))\n",
    "\n",
    "    # calculate cost\n",
    "    cost = 1 / 2 * np.dot(W, W) + hinge_loss\n",
    "    return cost\n"
   ]
  },
  {
   "cell_type": "code",
   "execution_count": null,
   "metadata": {},
   "outputs": [],
   "source": [
    "def calculate_cost_gradient(W, X_batch, Y_batch):\n",
    "    # if only one example is passed (eg. in case of SGD)\n",
    "    if type(Y_batch) == np.float64:\n",
    "        Y_batch = np.array([Y_batch])\n",
    "        X_batch = np.array([X_batch])  # gives multidimensional array\n",
    "\n",
    "    distance = 1 - (Y_batch * np.dot(X_batch, W))\n",
    "    dw = np.zeros(len(W))\n",
    "\n",
    "    for ind, d in enumerate(distance):\n",
    "        if max(0, d) == 0:\n",
    "            di = W\n",
    "        else:\n",
    "            di = W - (regularization_strength * Y_batch[ind] * X_batch[ind])\n",
    "        dw += di\n",
    "\n",
    "    dw = dw/len(Y_batch)  # average\n",
    "    return dw\n"
   ]
  },
  {
   "cell_type": "code",
   "execution_count": null,
   "metadata": {},
   "outputs": [],
   "source": [
    "def sgd(features, outputs):\n",
    "    max_epochs = 5000\n",
    "    weights = np.zeros(features.shape[1])\n",
    "    nth = 0\n",
    "    prev_cost = float(\"inf\")\n",
    "    cost_threshold = 0.001  # in percent\n",
    "    # stochastic gradient descent\n",
    "    for epoch in range(1, max_epochs):\n",
    "        # shuffle to prevent repeating update cycles\n",
    "        X, Y = shuffle(features, outputs)\n",
    "        for ind, x in enumerate(X):\n",
    "            ascent = calculate_cost_gradient(weights, x, Y[ind])\n",
    "            weights = weights - (learning_rate * ascent)\n",
    "\n",
    "        # convergence check on 2^nth epoch\n",
    "        if epoch == 2 ** nth or epoch == max_epochs - 1:\n",
    "            cost = compute_cost(weights, features, outputs)\n",
    "            print(\"Epoch is: {} and Cost is: {}\".format(epoch, cost))\n",
    "            # stoppage criterion\n",
    "            if abs(prev_cost - cost) < cost_threshold * prev_cost:\n",
    "                return weights\n",
    "            prev_cost = cost\n",
    "            nth += 1\n",
    "    return weights\n",
    "\n"
   ]
  },
  {
   "cell_type": "code",
   "execution_count": null,
   "metadata": {},
   "outputs": [],
   "source": [
    "\n",
    "    print(\"reading dataset...\")\n",
    "    # read data in pandas (pd) data frame\n",
    "    data = pd.read_csv('diagnosis.csv')\n",
    "    data = data[0:20]\n",
    "    # drop last column (extra column added by pd)\n",
    "    # and unnecessary first column (id)\n",
    "    data.drop(data.columns[[-1, 0]], axis=1, inplace=True)\n",
    "\n",
    "    print(\"applying feature engineering...\")\n",
    "    # convert categorical labels to numbers\n",
    "    diag_map = {'M': 1.0, 'B': -1.0}\n",
    "    data['diagnosis'] = data['diagnosis'].map(diag_map)\n",
    "\n",
    "    # put features & outputs in different data frames\n",
    "    Y = data.loc[:, 'diagnosis']\n",
    "    X = data.iloc[:, 1:]\n",
    "\n",
    "    # filter features\n",
    "    #remove_correlated_features(X)\n",
    "    #remove_less_significant_features(X, Y)\n",
    "\n",
    "    # normalize data for better convergence and to prevent overflow\n",
    "    X_normalized = StandardScaler().fit_transform(X.values)\n",
    "    X = pd.DataFrame(X_normalized)\n",
    "\n",
    "    # insert 1 in every row for intercept b\n",
    "    X.insert(loc=len(X.columns), column='intercept', value=1)\n",
    "\n",
    "    # split data into train and test set\n",
    "    #tts(X, Y, test_size=0.2, random_state=42)\n",
    "\n",
    "    # train the model\n",
    "    \n",
    "    "
   ]
  },
  {
   "cell_type": "code",
   "execution_count": null,
   "metadata": {},
   "outputs": [],
   "source": [
    "print(\"training started...\")\n",
    "    W = sgd(X.to_numpy(), Y.to_numpy())\n",
    "    print(\"training finished.\")\n",
    "    print(\"weights are: {}\".format(W))"
   ]
  },
  {
   "cell_type": "code",
   "execution_count": 110,
   "metadata": {},
   "outputs": [
    {
     "data": {
      "text/plain": [
       "pandas.core.frame.DataFrame"
      ]
     },
     "execution_count": 110,
     "metadata": {},
     "output_type": "execute_result"
    }
   ],
   "source": [
    "type(X)"
   ]
  },
  {
   "cell_type": "code",
   "execution_count": null,
   "metadata": {},
   "outputs": [],
   "source": [
    "from sklearn.linear_model import SGDClassifier\n",
    "clf = SGDClassifier(loss=\"hinge\", penalty=\"l1\", max_iter=4000000,alpha=10000,verbose=True)\n",
    "clf.fit(X, Y)\n",
    "clf.coef_\n",
    "\n",
    "##not sure why this doesn't work to verify??? will solve ourselves and compare \n",
    "#to the SGD implementation above, sklearn doesn't seem to beat it anyways"
   ]
  },
  {
   "cell_type": "code",
   "execution_count": null,
   "metadata": {},
   "outputs": [],
   "source": [
    "print(compute_cost(clf.coef_[0],X,Y))"
   ]
  },
  {
   "cell_type": "code",
   "execution_count": null,
   "metadata": {},
   "outputs": [],
   "source": [
    "print(X.shape)"
   ]
  },
  {
   "cell_type": "code",
   "execution_count": null,
   "metadata": {},
   "outputs": [],
   "source": [
    "import math\n",
    "\n",
    "def dual_coord_l1(X, y, max_steps, C=.25):\n",
    "    u=C\n",
    "    n_features = X.shape[1]\n",
    "    print(n_features)\n",
    "    n_samples = X.shape[0]\n",
    "    print(n_samples)\n",
    "    w = np.zeros(n_features)\n",
    "    alpha = np.zeros(n_samples)\n",
    "    for o in range(max_steps) : #outer iteration\n",
    "        for i in range(n_samples): #inner iteration\n",
    "            assert(alpha[i] >= 0)\n",
    "            assert(alpha[i] <= C)\n",
    "            #step a\n",
    "            G = y[i]*w.transpose().dot(X[i])-1+(alpha[i] * X[i].dot(X[i])) #G = yiwT xi − 1 + Diiαi\n",
    "            #step b of algorithm 1\n",
    "            PG = 0\n",
    "            if (alpha[i]==0):\n",
    "                PG = min(G,0)\n",
    "            if (alpha[i]==u):\n",
    "                PG = max(G,0)\n",
    "            if (alpha[i] < u and alpha[i] == 0):\n",
    "                PF=G\n",
    "            #step c\n",
    "            if PG != 0: \n",
    "                ahat = alpha[i]\n",
    "                #for L1, Qhatii = Qii+Dii = Qii+0\n",
    "                qhatii = ((y[i]**2)*X[i].dot(X[i])) + (X[i].dot(X[i]))\n",
    "                alpha[i] = min(max(alpha[i]-(G/qhatii),0),u)\n",
    "                print(alpha[i]-ahat)\n",
    "                w = w + ((alpha[i]-ahat)*y[i])*X[i]\n",
    "        if o % 100 == 0:\n",
    "            print(compute_cost(w,X,Y))\n",
    "    return w"
   ]
  },
  {
   "cell_type": "code",
   "execution_count": null,
   "metadata": {},
   "outputs": [],
   "source": [
    "dual_coord_l1(X.to_numpy(),Y.to_numpy(),2,C=10000)"
   ]
  },
  {
   "cell_type": "code",
   "execution_count": null,
   "metadata": {},
   "outputs": [],
   "source": [
    "def dual_coord_l2(X, y, max_steps, C=.25):\n",
    "    u=float('inf')\n",
    "    n_features = X.shape[1]\n",
    "    print(n_features)\n",
    "    n_samples = X.shape[0]\n",
    "    print(n_samples)\n",
    "    X=X.transpose()\n",
    "    w = np.zeros(n_features)\n",
    "    Dii=1/(2*C)\n",
    "    alpha = np.zeros(n_samples)\n",
    "    for o in range(max_steps) : #outer iteration\n",
    "        for i in range(n_samples): #inner iteration\n",
    "            assert(alpha[i] >= 0)\n",
    "            assert(alpha[i] <= C)\n",
    "            #step a\n",
    "            G = y[i]*w.transpose().dot(X[i])-1+(alpha[i] * Dii) #G = yiwT xi − 1 + Diiαi\n",
    "            #step b of algorithm 1\n",
    "            PG = 0\n",
    "            if (alpha[i]==0):\n",
    "                PG = min(G,0)\n",
    "            if (alpha[i]==u):\n",
    "                PG = max(G,0)\n",
    "            if (alpha[i] < u and alpha[i] == 0):\n",
    "                PF=G\n",
    "            #step c\n",
    "            if PG != 0: \n",
    "                ahat = alpha[i]\n",
    "                #for L1, Qhatii = Qii+Dii = Qii+0\n",
    "                qhatii = (Dii) + (X[i].dot(X[i]))\n",
    "                alpha[i] = min(max(alpha[i]-(G/qhatii),0),u)\n",
    "                w = w + ((alpha[i]-ahat)*y[i])*X[i]\n",
    "        if o % 100 == 0:\n",
    "            print(compute_cost(w,X.transpose(),Y))\n",
    "    return w"
   ]
  },
  {
   "cell_type": "code",
   "execution_count": null,
   "metadata": {},
   "outputs": [],
   "source": [
    "dual_coord_l2(X,Y,500,C=10)"
   ]
  },
  {
   "cell_type": "code",
   "execution_count": null,
   "metadata": {},
   "outputs": [],
   "source": []
  }
 ],
 "metadata": {
  "kernelspec": {
   "display_name": "Python 3 (ipykernel)",
   "language": "python",
   "name": "python3"
  },
  "language_info": {
   "codemirror_mode": {
    "name": "ipython",
    "version": 3
   },
   "file_extension": ".py",
   "mimetype": "text/x-python",
   "name": "python",
   "nbconvert_exporter": "python",
   "pygments_lexer": "ipython3",
   "version": "3.7.3"
  }
 },
 "nbformat": 4,
 "nbformat_minor": 2
}
