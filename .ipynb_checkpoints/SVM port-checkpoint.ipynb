{
 "cells": [
  {
   "cell_type": "code",
   "execution_count": null,
   "metadata": {},
   "outputs": [],
   "source": [
    "import numpy as np\n",
    "import pandas as pd\n",
    "import statsmodels.api as sm\n",
    "from sklearn.preprocessing import StandardScaler\n",
    "from sklearn.model_selection import train_test_split as tts\n",
    "from sklearn.metrics import accuracy_score, recall_score, precision_score\n",
    "from sklearn.utils import shuffle"
   ]
  },
  {
   "cell_type": "code",
   "execution_count": 151,
   "metadata": {},
   "outputs": [],
   "source": [
    "regularization_strength = 100\n",
    "learning_rate = 0.000001"
   ]
  },
  {
   "cell_type": "code",
   "execution_count": 152,
   "metadata": {},
   "outputs": [],
   "source": [
    "def compute_cost(W, X, Y):\n",
    "    # calculate hinge loss\n",
    "    N = X.shape[0]\n",
    "    distances = 1 - Y * (np.dot(X, W))\n",
    "    distances[distances < 0] = 0  # equivalent to max(0, distance)\n",
    "    hinge_loss = regularization_strength * (np.sum(distances))\n",
    "\n",
    "    # calculate cost\n",
    "    cost = 1 / 2 * np.dot(W, W) + hinge_loss\n",
    "    return cost\n"
   ]
  },
  {
   "cell_type": "code",
   "execution_count": 153,
   "metadata": {},
   "outputs": [],
   "source": [
    "def calculate_cost_gradient(W, X_batch, Y_batch):\n",
    "    # if only one example is passed (eg. in case of SGD)\n",
    "    if type(Y_batch) == np.float64:\n",
    "        Y_batch = np.array([Y_batch])\n",
    "        X_batch = np.array([X_batch])  # gives multidimensional array\n",
    "\n",
    "    distance = 1 - (Y_batch * np.dot(X_batch, W))\n",
    "    dw = np.zeros(len(W))\n",
    "\n",
    "    for ind, d in enumerate(distance):\n",
    "        if max(0, d) == 0:\n",
    "            di = W\n",
    "        else:\n",
    "            di = W - (regularization_strength * Y_batch[ind] * X_batch[ind])\n",
    "        dw += di\n",
    "\n",
    "    dw = dw/len(Y_batch)  # average\n",
    "    return dw\n"
   ]
  },
  {
   "cell_type": "code",
   "execution_count": 154,
   "metadata": {},
   "outputs": [],
   "source": [
    "def sgd(features, outputs, max_ep):\n",
    "    max_epochs = max_ep\n",
    "    weights = np.zeros(features.shape[1])\n",
    "    nth = 0\n",
    "    prev_cost = float(\"inf\")\n",
    "    cost_threshold = 0.001  # in percent\n",
    "    # stochastic gradient descent\n",
    "    for epoch in range(1, max_epochs):\n",
    "        # shuffle to prevent repeating update cycles\n",
    "        X, Y = shuffle(features, outputs)\n",
    "        for ind, x in enumerate(X):\n",
    "            ascent = calculate_cost_gradient(weights, x, Y[ind])\n",
    "            weights = weights - (learning_rate * ascent)\n",
    "\n",
    "        # convergence check on 2^nth epoch\n",
    "        if epoch == 2 ** nth or epoch == max_epochs - 1:\n",
    "            cost = compute_cost(weights, features, outputs)\n",
    "            print(\"Epoch is: {} and Cost is: {}\".format(epoch, cost))\n",
    "            # stoppage criterion\n",
    "            if abs(prev_cost - cost) < cost_threshold * prev_cost:\n",
    "                return weights\n",
    "            prev_cost = cost\n",
    "            nth += 1\n",
    "    return weights\n",
    "\n"
   ]
  },
  {
   "cell_type": "code",
   "execution_count": 155,
   "metadata": {},
   "outputs": [
    {
     "name": "stdout",
     "output_type": "stream",
     "text": [
      "reading dataset...\n",
      "applying feature engineering...\n"
     ]
    }
   ],
   "source": [
    "\n",
    "    print(\"reading dataset...\")\n",
    "    # read data in pandas (pd) data frame\n",
    "    data = pd.read_csv('diagnosis.csv')\n",
    "    data = data[0:20]\n",
    "    # drop last column (extra column added by pd)\n",
    "    # and unnecessary first column (id)\n",
    "    data.drop(data.columns[[-1, 0]], axis=1, inplace=True)\n",
    "\n",
    "    print(\"applying feature engineering...\")\n",
    "    # convert categorical labels to numbers\n",
    "    diag_map = {'M': 1.0, 'B': -1.0}\n",
    "    data['diagnosis'] = data['diagnosis'].map(diag_map)\n",
    "\n",
    "    # put features & outputs in different data frames\n",
    "    Y = data.loc[:, 'diagnosis']\n",
    "    X = data.iloc[:, 1:]\n",
    "\n",
    "    # filter features\n",
    "    #remove_correlated_features(X)\n",
    "    #remove_less_significant_features(X, Y)\n",
    "\n",
    "    # normalize data for better convergence and to prevent overflow\n",
    "    X_normalized = StandardScaler().fit_transform(X.values)\n",
    "    X = pd.DataFrame(X_normalized)\n",
    "\n",
    "    # insert 1 in every row for intercept b\n",
    "    X.insert(loc=len(X.columns), column='intercept', value=1)\n",
    "\n",
    "    # split data into train and test set\n",
    "    #tts(X, Y, test_size=0.2, random_state=42)\n",
    "\n",
    "    # train the model\n",
    "    \n",
    "    "
   ]
  },
  {
   "cell_type": "code",
   "execution_count": 160,
   "metadata": {},
   "outputs": [
    {
     "name": "stdout",
     "output_type": "stream",
     "text": [
      "training started...\n",
      "Epoch is: 1 and Cost is: 1995.6072213251364\n",
      "Epoch is: 2 and Cost is: 1991.2145239887507\n",
      "Epoch is: 4 and Cost is: 1982.4294021188355\n",
      "Epoch is: 8 and Cost is: 1964.8602762876633\n",
      "Epoch is: 16 and Cost is: 1929.7264813307427\n",
      "Epoch is: 32 and Cost is: 1859.4765667647155\n",
      "Epoch is: 64 and Cost is: 1719.0475983154815\n",
      "Epoch is: 128 and Cost is: 1438.472473705783\n",
      "Epoch is: 256 and Cost is: 1013.8879328373757\n",
      "Epoch is: 512 and Cost is: 475.5122298786198\n",
      "Epoch is: 1024 and Cost is: 176.20124757547916\n",
      "Epoch is: 2048 and Cost is: 145.5042227787332\n",
      "Epoch is: 4096 and Cost is: 90.84989454932878\n",
      "Epoch is: 8192 and Cost is: 1.8276173613147784\n",
      "Epoch is: 9999 and Cost is: 1.8199497736331431\n",
      "training finished.\n",
      "weights are: [ 0.09730647  0.46453706  0.08958624  0.14322724  0.28121743  0.02533176\n",
      "  0.17830529  0.09708504 -0.27149414  0.21589785  0.05561843 -0.08874279\n",
      " -0.20886031 -0.06547136  0.0793413   0.02376994  0.17541641 -0.14457728\n",
      "  0.02866021  0.03937472  0.17712402  0.40526407  0.07160248  0.12653081\n",
      " -0.00833957  0.07842547  0.03879884 -0.1115199   0.03826329  0.19641893\n",
      "  1.65773755]\n"
     ]
    }
   ],
   "source": [
    "print(\"training started...\")\n",
    "W = sgd(X.to_numpy(), Y.to_numpy(),10000)\n",
    "print(\"training finished.\")\n",
    "print(\"weights are: {}\".format(W))"
   ]
  },
  {
   "cell_type": "code",
   "execution_count": 110,
   "metadata": {},
   "outputs": [
    {
     "data": {
      "text/plain": [
       "pandas.core.frame.DataFrame"
      ]
     },
     "execution_count": 110,
     "metadata": {},
     "output_type": "execute_result"
    }
   ],
   "source": [
    "type(X)"
   ]
  },
  {
   "cell_type": "code",
   "execution_count": 157,
   "metadata": {},
   "outputs": [
    {
     "name": "stdout",
     "output_type": "stream",
     "text": [
      "-- Epoch 1\n",
      "Norm: 1.81, NNZs: 0, Bias: 0.348723, T: 20, Avg. loss: 0.711331\n",
      "Total training time: 0.00 seconds.\n",
      "-- Epoch 2\n",
      "Norm: 1.81, NNZs: 0, Bias: 0.354974, T: 40, Avg. loss: 0.683178\n",
      "Total training time: 0.00 seconds.\n",
      "-- Epoch 3\n",
      "Norm: 1.81, NNZs: 0, Bias: 0.358683, T: 60, Avg. loss: 0.678840\n",
      "Total training time: 0.00 seconds.\n",
      "-- Epoch 4\n",
      "Norm: 1.81, NNZs: 0, Bias: 0.361306, T: 80, Avg. loss: 0.676019\n",
      "Total training time: 0.00 seconds.\n",
      "-- Epoch 5\n",
      "Norm: 1.81, NNZs: 0, Bias: 0.363336, T: 100, Avg. loss: 0.673933\n",
      "Total training time: 0.00 seconds.\n",
      "-- Epoch 6\n",
      "Norm: 1.81, NNZs: 0, Bias: 0.364969, T: 120, Avg. loss: 0.672288\n",
      "Total training time: 0.00 seconds.\n",
      "-- Epoch 7\n",
      "Norm: 1.81, NNZs: 0, Bias: 0.366363, T: 140, Avg. loss: 0.670922\n",
      "Total training time: 0.00 seconds.\n",
      "-- Epoch 8\n",
      "Norm: 1.81, NNZs: 0, Bias: 0.367576, T: 160, Avg. loss: 0.669750\n",
      "Total training time: 0.01 seconds.\n",
      "-- Epoch 9\n",
      "Norm: 1.81, NNZs: 0, Bias: 0.368638, T: 180, Avg. loss: 0.668723\n",
      "Total training time: 0.01 seconds.\n",
      "-- Epoch 10\n",
      "Norm: 1.81, NNZs: 0, Bias: 0.369586, T: 200, Avg. loss: 0.667818\n",
      "Total training time: 0.01 seconds.\n",
      "-- Epoch 11\n",
      "Norm: 1.81, NNZs: 0, Bias: 0.370447, T: 220, Avg. loss: 0.667002\n",
      "Total training time: 0.01 seconds.\n",
      "-- Epoch 12\n",
      "Norm: 1.81, NNZs: 0, Bias: 0.371233, T: 240, Avg. loss: 0.666260\n",
      "Total training time: 0.01 seconds.\n",
      "-- Epoch 13\n",
      "Norm: 1.81, NNZs: 0, Bias: 0.371957, T: 260, Avg. loss: 0.665580\n",
      "Total training time: 0.01 seconds.\n",
      "-- Epoch 14\n",
      "Norm: 1.81, NNZs: 0, Bias: 0.372622, T: 280, Avg. loss: 0.664955\n",
      "Total training time: 0.01 seconds.\n",
      "Convergence after 14 epochs took 0.01 seconds\n"
     ]
    },
    {
     "data": {
      "text/plain": [
       "array([[0., 0., 0., 0., 0., 0., 0., 0., 0., 0., 0., 0., 0., 0., 0., 0.,\n",
       "        0., 0., 0., 0., 0., 0., 0., 0., 0., 0., 0., 0., 0., 0., 0.]])"
      ]
     },
     "execution_count": 157,
     "metadata": {},
     "output_type": "execute_result"
    }
   ],
   "source": [
    "from sklearn.linear_model import SGDClassifier\n",
    "clf = SGDClassifier(loss=\"hinge\", penalty=\"l1\", max_iter=4000000,alpha=100,verbose=True)\n",
    "clf.fit(X.to_numpy(), Y.to_numpy())\n",
    "clf.coef_\n",
    "\n",
    "##not sure why this doesn't work to verify??? will solve ourselves and compare \n",
    "#to the SGD implementation above, sklearn doesn't seem to beat it anyways"
   ]
  },
  {
   "cell_type": "code",
   "execution_count": null,
   "metadata": {},
   "outputs": [],
   "source": [
    "print(compute_cost(clf.coef_[0],X,Y))"
   ]
  },
  {
   "cell_type": "code",
   "execution_count": null,
   "metadata": {},
   "outputs": [],
   "source": [
    "print(X.shape)"
   ]
  },
  {
   "cell_type": "code",
   "execution_count": 158,
   "metadata": {},
   "outputs": [],
   "source": [
    "import math\n",
    "\n",
    "def dual_coord_l1(X, y, max_steps, C=regularization_strength):\n",
    "    u=C\n",
    "    n_features = X.shape[1]\n",
    "    print(n_features)\n",
    "    n_samples = X.shape[0]\n",
    "    print(n_samples)\n",
    "    w = np.zeros(n_features)\n",
    "    alpha = np.zeros(n_samples)\n",
    "    for o in range(max_steps) : #outer iteration\n",
    "        for i in range(n_samples): #inner iteration\n",
    "            assert(alpha[i] >= 0)\n",
    "            assert(alpha[i] <= C)\n",
    "            Dii = 0\n",
    "            #step a\n",
    "            G = y[i]*w.transpose().dot(X[i])-1+(alpha[i] * Dii) #G = yiwT xi − 1 + Diiαi\n",
    "            #step b of algorithm 1\n",
    "            PG = 0\n",
    "            if (alpha[i]==0):\n",
    "                PG = min(G,0)\n",
    "            if (alpha[i]==u):\n",
    "                PG = max(G,0)\n",
    "            if (alpha[i] < u and alpha[i] > 0):\n",
    "                PG=G\n",
    "            #step c\n",
    "            if PG != 0: \n",
    "                ahat = alpha[i]\n",
    "                #for L1, Qhatii = Qii+Dii = Qii+0\n",
    "                qhatii = ((y[i]**2)*X[i].dot(X[i])) + (Dii)\n",
    "                alpha[i] = min(max(alpha[i]-(G/qhatii),0),u)\n",
    "                w = w + ((alpha[i]-ahat)*y[i])*X[i]\n",
    "        if o % 100 == 0:\n",
    "            print(compute_cost(w,X,Y))\n",
    "    return w"
   ]
  },
  {
   "cell_type": "code",
   "execution_count": 159,
   "metadata": {},
   "outputs": [
    {
     "name": "stdout",
     "output_type": "stream",
     "text": [
      "31\n",
      "20\n",
      "703.4437502071513\n",
      "1.922690912457123\n",
      "1.7616251860433203\n",
      "1.76160051883621\n",
      "1.761600515057428\n"
     ]
    },
    {
     "data": {
      "text/plain": [
       "array([ 0.07039113,  0.44879001,  0.04728298,  0.13259928,  0.34147383,\n",
       "       -0.01335348,  0.17317654,  0.09194354, -0.3341727 ,  0.2648162 ,\n",
       "        0.08851806, -0.15256927, -0.27753869, -0.04237613,  0.09315064,\n",
       "        0.01280408,  0.22197679, -0.19233484,  0.09052776, -0.00815736,\n",
       "        0.23704206,  0.3972551 ,  0.08933121,  0.20202064, -0.07289512,\n",
       "        0.08745164,  0.03345898, -0.21803711,  0.05848978,  0.2433788 ,\n",
       "        1.53610418])"
      ]
     },
     "execution_count": 159,
     "metadata": {},
     "output_type": "execute_result"
    }
   ],
   "source": [
    "dual_coord_l1(X.to_numpy(),Y.to_numpy(),500)"
   ]
  },
  {
   "cell_type": "code",
   "execution_count": 169,
   "metadata": {},
   "outputs": [],
   "source": [
    "l2c = 100"
   ]
  },
  {
   "cell_type": "code",
   "execution_count": 172,
   "metadata": {},
   "outputs": [],
   "source": [
    "def compute_cost_l2(W,X,Y):\n",
    "    # calculate hinge loss\n",
    "    N = X.shape[0]\n",
    "    distances = 1 - Y * (np.dot(X, W))\n",
    "    distances[distances < 0] = 0  # equivalent to max(0, distance)\n",
    "    hinge_loss = l2c * (np.sum(distances.dot(distances)))\n",
    "\n",
    "    # calculate cost\n",
    "    cost = 1 / 2 * np.dot(W, W) + hinge_loss\n",
    "    return cost"
   ]
  },
  {
   "cell_type": "code",
   "execution_count": 174,
   "metadata": {},
   "outputs": [],
   "source": [
    "def dual_coord_l2(X, y, max_steps, C=regularization_strength):\n",
    "    u=float('inf')\n",
    "    n_features = X.shape[1]\n",
    "    print(n_features)\n",
    "    n_samples = X.shape[0]\n",
    "    print(n_samples)\n",
    "    w = np.zeros(n_features)\n",
    "    Dii=1/(2*C)\n",
    "    alpha = np.zeros(n_samples)\n",
    "    for o in range(max_steps) : #outer iteration\n",
    "        for i in range(n_samples): #inner iteration\n",
    "            assert(alpha[i] >= 0)\n",
    "            assert(alpha[i] <= C)\n",
    "            #step a\n",
    "            G = y[i]*w.transpose().dot(X[i])-1+(alpha[i] * Dii) #G = yiwT xi − 1 + Diiαi\n",
    "            #step b of algorithm 1\n",
    "            PG = 0\n",
    "            if (alpha[i]==0):\n",
    "                PG = min(G,0)\n",
    "            if (alpha[i]==u):\n",
    "                PG = max(G,0)\n",
    "            if (alpha[i] < u and alpha[i] > 0):\n",
    "                PG=G\n",
    "            #step c\n",
    "            if PG != 0: \n",
    "                ahat = alpha[i]\n",
    "                #for L1, Qhatii = Qii+Dii = Qii+0\n",
    "                qii = ((y[i]**2)*X[i].dot(X[i]))\n",
    "                qhatii = qii + (Dii)\n",
    "                alpha[i] = min(max(alpha[i]-(G/qhatii),0),u)\n",
    "                w = w + ((alpha[i]-ahat)*y[i])*X[i]\n",
    "        if o % 100 == 0:\n",
    "            print(compute_cost_l2(w,X,Y))\n",
    "    return w"
   ]
  },
  {
   "cell_type": "code",
   "execution_count": 175,
   "metadata": {},
   "outputs": [
    {
     "name": "stdout",
     "output_type": "stream",
     "text": [
      "31\n",
      "20\n",
      "630.1628241510977\n",
      "2.2501356010053337\n",
      "2.2471667420716197\n",
      "2.2471664682029053\n",
      "2.2471664681773547\n"
     ]
    },
    {
     "data": {
      "text/plain": [
       "array([ 0.06637404,  0.42601365,  0.04468828,  0.12470193,  0.32704678,\n",
       "       -0.01249464,  0.15806512,  0.08251113, -0.32697307,  0.25051643,\n",
       "        0.09676299, -0.14170624, -0.25831514, -0.03539776,  0.09750556,\n",
       "        0.0206437 ,  0.20820938, -0.18568193,  0.07841842, -0.0049623 ,\n",
       "        0.23074528,  0.38297832,  0.08950464,  0.19388967, -0.07119158,\n",
       "        0.09340938,  0.02739781, -0.212044  ,  0.05531137,  0.23513165,\n",
       "        1.48551897])"
      ]
     },
     "execution_count": 175,
     "metadata": {},
     "output_type": "execute_result"
    }
   ],
   "source": [
    "dual_coord_l2(X.to_numpy(),Y.to_numpy(),500,C=10)"
   ]
  },
  {
   "cell_type": "code",
   "execution_count": 181,
   "metadata": {},
   "outputs": [
    {
     "name": "stdout",
     "output_type": "stream",
     "text": [
      "-- Epoch 1\n",
      "Norm: 0.02, NNZs: 31, Bias: 0.778735, T: 20, Avg. loss: 2.829549\n",
      "Total training time: 0.00 seconds.\n",
      "-- Epoch 2\n",
      "Norm: 0.01, NNZs: 31, Bias: 0.780019, T: 40, Avg. loss: 0.199644\n",
      "Total training time: 0.00 seconds.\n",
      "-- Epoch 3\n",
      "Norm: 0.01, NNZs: 31, Bias: 0.780993, T: 60, Avg. loss: 0.197584\n",
      "Total training time: 0.00 seconds.\n",
      "-- Epoch 4\n",
      "Norm: 0.01, NNZs: 31, Bias: 0.781636, T: 80, Avg. loss: 0.196119\n",
      "Total training time: 0.00 seconds.\n",
      "-- Epoch 5\n",
      "Norm: 0.01, NNZs: 31, Bias: 0.782107, T: 100, Avg. loss: 0.194952\n",
      "Total training time: 0.00 seconds.\n",
      "-- Epoch 6\n",
      "Norm: 0.01, NNZs: 31, Bias: 0.782519, T: 120, Avg. loss: 0.195059\n",
      "Total training time: 0.00 seconds.\n",
      "-- Epoch 7\n",
      "Norm: 0.01, NNZs: 31, Bias: 0.782877, T: 140, Avg. loss: 0.195082\n",
      "Total training time: 0.00 seconds.\n",
      "-- Epoch 8\n",
      "Norm: 0.01, NNZs: 31, Bias: 0.783175, T: 160, Avg. loss: 0.194474\n",
      "Total training time: 0.00 seconds.\n",
      "-- Epoch 9\n",
      "Norm: 0.01, NNZs: 31, Bias: 0.783448, T: 180, Avg. loss: 0.194568\n",
      "Total training time: 0.00 seconds.\n",
      "-- Epoch 10\n",
      "Norm: 0.01, NNZs: 31, Bias: 0.783684, T: 200, Avg. loss: 0.194105\n",
      "Total training time: 0.00 seconds.\n",
      "Convergence after 10 epochs took 0.01 seconds\n"
     ]
    },
    {
     "data": {
      "text/plain": [
       "array([[ 0.00125716,  0.00278436,  0.00145754,  0.00123748,  0.00149985,\n",
       "         0.0021502 ,  0.00179826,  0.00186172,  0.00113349,  0.0019119 ,\n",
       "         0.00246267,  0.00131632,  0.00164295,  0.00183459, -0.00100817,\n",
       "         0.00154351,  0.00092643,  0.00044065, -0.00019068,  0.0017813 ,\n",
       "         0.00196218,  0.00277277,  0.00191713,  0.00170542,  0.0008361 ,\n",
       "         0.0016962 ,  0.0012356 ,  0.00200162,  0.00085185,  0.00192288,\n",
       "         0.00307417]])"
      ]
     },
     "execution_count": 181,
     "metadata": {},
     "output_type": "execute_result"
    }
   ],
   "source": [
    "clf = SGDClassifier(loss=\"squared_hinge\", penalty=\"l2\", max_iter=4000000,alpha=100,verbose=True)\n",
    "clf.fit(X.to_numpy(), Y.to_numpy())\n",
    "clf.coef_"
   ]
  },
  {
   "cell_type": "code",
   "execution_count": 182,
   "metadata": {},
   "outputs": [
    {
     "name": "stdout",
     "output_type": "stream",
     "text": [
      "1970.676688627001\n"
     ]
    }
   ],
   "source": [
    "print(compute_cost_l2(clf.coef_[0],X,Y))"
   ]
  },
  {
   "cell_type": "code",
   "execution_count": 185,
   "metadata": {},
   "outputs": [
    {
     "ename": "SyntaxError",
     "evalue": "invalid syntax (4062854192.py, line 8)",
     "output_type": "error",
     "traceback": [
      "\u001b[0;36m  File \u001b[0;32m\"/var/folders/8z/r78hlgg53hndvvyjqvlsz3pw0000gn/T/ipykernel_17856/4062854192.py\"\u001b[0;36m, line \u001b[0;32m8\u001b[0m\n\u001b[0;31m    dprime = w[i]+\u001b[0m\n\u001b[0m                  ^\u001b[0m\n\u001b[0;31mSyntaxError\u001b[0m\u001b[0;31m:\u001b[0m invalid syntax\n"
     ]
    }
   ],
   "source": [
    "def chang_descent(X,y,max_steps,c=regularization_parameter,beta=.5): # from https://www.csie.ntu.edu.tw/~cjlin/papers/cdl2.pdf\n",
    "    n_features = X.shape[1]\n",
    "    n_samples = X.shape[0]\n",
    "    w = np.zeros(n_features)\n",
    "    for o in range(max_steps) : #outer iteration\n",
    "        for i in range(n_features): #inner iteration\n",
    "            #start of Newtons method sub problem\n",
    "            z = 0\n",
    "            while(True):\n",
    "                bj=1-y\n",
    "                dprime = w[i]+z-2*c*\n",
    "            \n",
    "            for \n",
    "                \n",
    "            \n",
    "            \n",
    "    \n",
    "    "
   ]
  },
  {
   "cell_type": "code",
   "execution_count": null,
   "metadata": {},
   "outputs": [],
   "source": []
  }
 ],
 "metadata": {
  "kernelspec": {
   "display_name": "Python 3 (ipykernel)",
   "language": "python",
   "name": "python3"
  },
  "language_info": {
   "codemirror_mode": {
    "name": "ipython",
    "version": 3
   },
   "file_extension": ".py",
   "mimetype": "text/x-python",
   "name": "python",
   "nbconvert_exporter": "python",
   "pygments_lexer": "ipython3",
   "version": "3.7.3"
  }
 },
 "nbformat": 4,
 "nbformat_minor": 2
}
