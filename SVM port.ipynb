{
 "cells": [
  {
   "cell_type": "code",
   "execution_count": 1,
   "metadata": {},
   "outputs": [],
   "source": [
    "import numpy as np\n",
    "import pandas as pd\n",
    "import statsmodels.api as sm\n",
    "from sklearn.preprocessing import StandardScaler\n",
    "from sklearn.model_selection import train_test_split as tts\n",
    "from sklearn.metrics import accuracy_score, recall_score, precision_score\n",
    "from sklearn.utils import shuffle"
   ]
  },
  {
   "cell_type": "code",
   "execution_count": 24,
   "metadata": {},
   "outputs": [],
   "source": [
    "regularization_strength = 100\n",
    "learning_rate = 0.000001"
   ]
  },
  {
   "cell_type": "code",
   "execution_count": 2,
   "metadata": {},
   "outputs": [],
   "source": [
    "def compute_cost(W, X, Y):\n",
    "    # calculate hinge loss\n",
    "    N = X.shape[0]\n",
    "    distances = 1 - Y * (np.dot(X, W))\n",
    "    distances[distances < 0] = 0  # equivalent to max(0, distance)\n",
    "    hinge_loss = regularization_strength * (np.sum(distances))\n",
    "\n",
    "    # calculate cost\n",
    "    cost = 1 / 2 * np.dot(W, W) + hinge_loss\n",
    "    return cost\n"
   ]
  },
  {
   "cell_type": "code",
   "execution_count": 3,
   "metadata": {},
   "outputs": [],
   "source": [
    "def calculate_cost_gradient(W, X_batch, Y_batch):\n",
    "    # if only one example is passed (eg. in case of SGD)\n",
    "    if type(Y_batch) == np.float64:\n",
    "        Y_batch = np.array([Y_batch])\n",
    "        X_batch = np.array([X_batch])  # gives multidimensional array\n",
    "\n",
    "    distance = 1 - (Y_batch * np.dot(X_batch, W))\n",
    "    dw = np.zeros(len(W))\n",
    "\n",
    "    for ind, d in enumerate(distance):\n",
    "        if max(0, d) == 0:\n",
    "            di = W\n",
    "        else:\n",
    "            di = W - (regularization_strength * Y_batch[ind] * X_batch[ind])\n",
    "        dw += di\n",
    "\n",
    "    dw = dw/len(Y_batch)  # average\n",
    "    return dw\n"
   ]
  },
  {
   "cell_type": "code",
   "execution_count": 37,
   "metadata": {},
   "outputs": [],
   "source": [
    "def sgd(features, outputs):\n",
    "    max_epochs = 500000\n",
    "    weights = np.zeros(features.shape[1])\n",
    "    nth = 0\n",
    "    prev_cost = float(\"inf\")\n",
    "    cost_threshold = 0.001  # in percent\n",
    "    # stochastic gradient descent\n",
    "    for epoch in range(1, max_epochs):\n",
    "        # shuffle to prevent repeating update cycles\n",
    "        X, Y = shuffle(features, outputs)\n",
    "        for ind, x in enumerate(X):\n",
    "            ascent = calculate_cost_gradient(weights, x, Y[ind])\n",
    "            weights = weights - (learning_rate * ascent)\n",
    "\n",
    "        # convergence check on 2^nth epoch\n",
    "        if epoch == 2 ** nth or epoch == max_epochs - 1:\n",
    "            cost = compute_cost(weights, features, outputs)\n",
    "            print(\"Epoch is: {} and Cost is: {}\".format(epoch, cost))\n",
    "            # stoppage criterion\n",
    "            if abs(prev_cost - cost) < cost_threshold * prev_cost:\n",
    "                return weights\n",
    "            prev_cost = cost\n",
    "            nth += 1\n",
    "    return weights\n",
    "\n"
   ]
  },
  {
   "cell_type": "code",
   "execution_count": 38,
   "metadata": {},
   "outputs": [
    {
     "name": "stdout",
     "output_type": "stream",
     "text": [
      "reading dataset...\n",
      "applying feature engineering...\n",
      "splitting dataset into train and test sets...\n",
      "training started...\n",
      "Epoch is: 1 and Cost is: 156072.1943261366\n",
      "Epoch is: 2 and Cost is: 120917.37594717379\n",
      "Epoch is: 4 and Cost is: 67725.93541933036\n",
      "Epoch is: 8 and Cost is: 25390.426338853835\n",
      "Epoch is: 16 and Cost is: 15464.83773143997\n",
      "Epoch is: 32 and Cost is: 11344.005877032041\n",
      "Epoch is: 64 and Cost is: 842.5344708606142\n",
      "Epoch is: 128 and Cost is: 2.128936606596986\n",
      "Epoch is: 256 and Cost is: 2.118064302584236\n",
      "Epoch is: 512 and Cost is: 2.096485982887454\n",
      "Epoch is: 1024 and Cost is: 2.21265877981558\n",
      "Epoch is: 2048 and Cost is: 2.1550717057978095\n",
      "Epoch is: 4096 and Cost is: 2.1515976810241204\n",
      "Epoch is: 8192 and Cost is: 2.106278279107557\n",
      "Epoch is: 16384 and Cost is: 1.9441113690433887\n",
      "Epoch is: 32768 and Cost is: 2.039532901222637\n",
      "Epoch is: 65536 and Cost is: 1.9714393498676208\n",
      "Epoch is: 131072 and Cost is: 2.045050489449382\n",
      "Epoch is: 262144 and Cost is: 2.0667543443252674\n",
      "Epoch is: 499999 and Cost is: 2.022190237981402\n",
      "training finished.\n",
      "weights are: [ 0.0606292   0.47440966  0.03690082  0.12408516  0.36953304 -0.0095498\n",
      "  0.18872689  0.09853276 -0.35559833  0.28516044  0.12320705 -0.15093793\n",
      " -0.27308417 -0.02506021  0.11885921  0.00436113  0.23703145 -0.20381712\n",
      "  0.09696099 -0.01992281  0.24879594  0.42332712  0.09599886  0.21079513\n",
      " -0.0747621   0.07845214  0.02768922 -0.2383875   0.05718347  0.24526437\n",
      "  1.6573434 ]\n"
     ]
    }
   ],
   "source": [
    "\n",
    "    print(\"reading dataset...\")\n",
    "    # read data in pandas (pd) data frame\n",
    "    data = pd.read_csv('diagnosis.csv')\n",
    "    data = data[0:20]\n",
    "    # drop last column (extra column added by pd)\n",
    "    # and unnecessary first column (id)\n",
    "    data.drop(data.columns[[-1, 0]], axis=1, inplace=True)\n",
    "\n",
    "    print(\"applying feature engineering...\")\n",
    "    # convert categorical labels to numbers\n",
    "    diag_map = {'M': 1.0, 'B': -1.0}\n",
    "    data['diagnosis'] = data['diagnosis'].map(diag_map)\n",
    "\n",
    "    # put features & outputs in different data frames\n",
    "    Y = data.loc[:, 'diagnosis']\n",
    "    X = data.iloc[:, 1:]\n",
    "\n",
    "    # filter features\n",
    "    #remove_correlated_features(X)\n",
    "    #remove_less_significant_features(X, Y)\n",
    "\n",
    "    # normalize data for better convergence and to prevent overflow\n",
    "    X_normalized = StandardScaler().fit_transform(X.values)\n",
    "    X = pd.DataFrame(X_normalized)\n",
    "\n",
    "    # insert 1 in every row for intercept b\n",
    "    X.insert(loc=len(X.columns), column='intercept', value=1)\n",
    "\n",
    "    # split data into train and test set\n",
    "    print(\"splitting dataset into train and test sets...\")\n",
    "    #tts(X, Y, test_size=0.2, random_state=42)\n",
    "\n",
    "    # train the model\n",
    "    print(\"training started...\")\n",
    "    W = sgd(X.to_numpy(), Y.to_numpy())\n",
    "    print(\"training finished.\")\n",
    "    print(\"weights are: {}\".format(W))\n",
    "    "
   ]
  },
  {
   "cell_type": "code",
   "execution_count": 35,
   "metadata": {},
   "outputs": [
    {
     "name": "stdout",
     "output_type": "stream",
     "text": [
      "-- Epoch 1\n",
      "Norm: 0.60, NNZs: 0, Bias: 0.100315, T: 20, Avg. loss: 0.914807\n",
      "Total training time: 0.00 seconds.\n",
      "-- Epoch 2\n",
      "Norm: 0.60, NNZs: 0, Bias: 0.100378, T: 40, Avg. loss: 0.909687\n",
      "Total training time: 0.00 seconds.\n",
      "-- Epoch 3\n",
      "Norm: 0.60, NNZs: 0, Bias: 0.100415, T: 60, Avg. loss: 0.909643\n",
      "Total training time: 0.00 seconds.\n",
      "-- Epoch 4\n",
      "Norm: 0.60, NNZs: 0, Bias: 0.100441, T: 80, Avg. loss: 0.909615\n",
      "Total training time: 0.00 seconds.\n",
      "-- Epoch 5\n",
      "Norm: 0.60, NNZs: 0, Bias: 0.100462, T: 100, Avg. loss: 0.909594\n",
      "Total training time: 0.00 seconds.\n",
      "-- Epoch 6\n",
      "Norm: 0.60, NNZs: 0, Bias: 0.100478, T: 120, Avg. loss: 0.909577\n",
      "Total training time: 0.00 seconds.\n",
      "-- Epoch 7\n",
      "Norm: 0.60, NNZs: 0, Bias: 0.100492, T: 140, Avg. loss: 0.909564\n",
      "Total training time: 0.00 seconds.\n",
      "Convergence after 7 epochs took 0.00 seconds\n"
     ]
    },
    {
     "name": "stderr",
     "output_type": "stream",
     "text": [
      "/Library/Frameworks/Python.framework/Versions/3.7/lib/python3.7/site-packages/sklearn/utils/validation.py:1692: FutureWarning: Feature names only support names that are all strings. Got feature names with dtypes: ['int', 'str']. An error will be raised in 1.2.\n",
      "  FutureWarning,\n"
     ]
    },
    {
     "data": {
      "text/plain": [
       "array([[0., 0., 0., 0., 0., 0., 0., 0., 0., 0., 0., 0., 0., 0., 0., 0.,\n",
       "        0., 0., 0., 0., 0., 0., 0., 0., 0., 0., 0., 0., 0., 0., 0.]])"
      ]
     },
     "execution_count": 35,
     "metadata": {},
     "output_type": "execute_result"
    }
   ],
   "source": [
    "from sklearn.linear_model import SGDClassifier\n",
    "clf = SGDClassifier(loss=\"hinge\", penalty=\"l1\", max_iter=4000000,alpha=10000,verbose=True)\n",
    "clf.fit(X, Y)\n",
    "clf.coef_\n",
    "\n",
    "##not sure why this doesn't work to verify??? will solve ourselves and compare \n",
    "#to the SGD implementation above, sklearn doesn't seem to beat it anyways"
   ]
  },
  {
   "cell_type": "code",
   "execution_count": 33,
   "metadata": {},
   "outputs": [
    {
     "name": "stdout",
     "output_type": "stream",
     "text": [
      "200000.0\n"
     ]
    }
   ],
   "source": [
    "print(compute_cost(clf.coef_[0],X,Y))"
   ]
  },
  {
   "cell_type": "code",
   "execution_count": 44,
   "metadata": {},
   "outputs": [
    {
     "name": "stdout",
     "output_type": "stream",
     "text": [
      "(20, 31)\n"
     ]
    }
   ],
   "source": [
    "print(X.shape)"
   ]
  },
  {
   "cell_type": "code",
   "execution_count": 91,
   "metadata": {},
   "outputs": [],
   "source": [
    "import math\n",
    "\n",
    "def dual_coord_l1(X, y, max_steps, C=.25):\n",
    "    u=C\n",
    "    n_features = X.shape[1]\n",
    "    print(n_features)\n",
    "    n_samples = X.shape[0]\n",
    "    print(n_samples)\n",
    "    X=X.transpose()\n",
    "    w = np.zeros(n_features)\n",
    "    alpha = np.zeros(n_samples)\n",
    "    for o in range(max_steps) : #outer iteration\n",
    "        for i in range(n_samples): #inner iteration\n",
    "            #step a\n",
    "            G = y[i]*w.transpose().dot(X[i])-1#+alpha[i] * 0 #G = yiwT xi − 1 + Diiαi\n",
    "            #step b of algorithm 1\n",
    "            PG = 0\n",
    "            if (alpha[i]==0):\n",
    "                PG = min(G,0)\n",
    "            if (alpha[i]==u):\n",
    "                PG = max(G,0)\n",
    "            if (alpha[i] < u and alpha[i] == 0):\n",
    "                PF=G\n",
    "            #step c\n",
    "            if PG != 0: \n",
    "                ahat = alpha[i]\n",
    "                #for L1, Qhatii = Qii+Dii = Qii+0\n",
    "                qhatii = ((y[i]**2)*X[i].dot(X[i]))\n",
    "                alpha[i] = min(max(alpha[i]-(G/qhatii),0),u)\n",
    "                w = w + ((alpha[i]-ahat)*y[i])*X[i]\n",
    "        if o % 100 == 0:\n",
    "            print(compute_cost(w,X.transpose(),Y))\n",
    "    return w"
   ]
  },
  {
   "cell_type": "code",
   "execution_count": 92,
   "metadata": {},
   "outputs": [
    {
     "name": "stdout",
     "output_type": "stream",
     "text": [
      "31\n",
      "20\n",
      "70310.59929354131\n",
      "70310.59929354131\n",
      "70310.59929354131\n",
      "70310.59929354131\n",
      "70310.59929354131\n"
     ]
    },
    {
     "data": {
      "text/plain": [
       "0            0.044571\n",
       "1            0.112143\n",
       "2            0.054524\n",
       "3            0.032979\n",
       "4            0.091592\n",
       "5            0.103191\n",
       "6           -0.006495\n",
       "7            0.048300\n",
       "8            0.055544\n",
       "9            0.105741\n",
       "10           0.075186\n",
       "11           0.086485\n",
       "12           0.054400\n",
       "13           0.028284\n",
       "14          -0.113617\n",
       "15           0.009392\n",
       "16          -0.061251\n",
       "17          -0.015820\n",
       "18          -0.074891\n",
       "19           0.039678\n",
       "20           0.113572\n",
       "21           0.152541\n",
       "22           0.096058\n",
       "23           0.086144\n",
       "24           0.094664\n",
       "25           0.039255\n",
       "26          -0.011528\n",
       "27           0.079710\n",
       "28           0.000638\n",
       "29           0.080198\n",
       "intercept    0.714651\n",
       "dtype: float64"
      ]
     },
     "execution_count": 92,
     "metadata": {},
     "output_type": "execute_result"
    }
   ],
   "source": [
    "dual_coord_l1(X,Y,500,C=100)"
   ]
  },
  {
   "cell_type": "code",
   "execution_count": null,
   "metadata": {},
   "outputs": [],
   "source": []
  }
 ],
 "metadata": {
  "kernelspec": {
   "display_name": "Python 3 (ipykernel)",
   "language": "python",
   "name": "python3"
  },
  "language_info": {
   "codemirror_mode": {
    "name": "ipython",
    "version": 3
   },
   "file_extension": ".py",
   "mimetype": "text/x-python",
   "name": "python",
   "nbconvert_exporter": "python",
   "pygments_lexer": "ipython3",
   "version": "3.7.3"
  }
 },
 "nbformat": 4,
 "nbformat_minor": 2
}
